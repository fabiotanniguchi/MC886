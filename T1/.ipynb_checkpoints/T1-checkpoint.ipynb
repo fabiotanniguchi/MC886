{
 "cells": [
  {
   "cell_type": "code",
   "execution_count": null,
   "metadata": {
    "collapsed": true
   },
   "outputs": [],
   "source": [
    "from sklearn import linear_model\n",
    "from sklearn import preprocessing\n",
    "import numpy as np\n",
    "import pandas as pd"
   ]
  },
  {
   "cell_type": "code",
   "execution_count": null,
   "metadata": {
    "collapsed": true
   },
   "outputs": [],
   "source": [
    "TRAINING_MODEL_FILE = \"year-prediction-msd-train.txt\"\n",
    "TESTING_MODEL_FILE= \"year-prediction-msd-test.txt\""
   ]
  },
  {
   "cell_type": "code",
   "execution_count": null,
   "metadata": {
    "collapsed": true
   },
   "outputs": [],
   "source": [
    "data = np.loadtxt(open(TRAINING_MODEL_FILE, 'r'),\n",
    "                     dtype={'names': ('year', 'timbre01', 'timbre02', 'timbre03', 'timbre04', 'timbre05', 'timbre06', 'timbre07', 'timbre08', 'timbre09', 'timbre10', 'timbre11', 'timbre12',\n",
    "                                      'timbrec1','timbrec2','timbrec3','timbrec4','timbrec5','timbrec6','timbrec7','timbrec8','timbrec9','timbrec10','timbrec11','timbrec12',\n",
    "                                      'timbrec13','timbrec14','timbrec15','timbrec16','timbrec17','timbrec18','timbrec19','timbrec20','timbrec21','timbrec22','timbrec23','timbrec24',\n",
    "                                      'timbrec25','timbrec26','timbrec27','timbrec28','timbrec29','timbrec30','timbrec31','timbrec32','timbrec33','timbrec34','timbrec35','timbrec36',\n",
    "                                      'timbrec37','timbrec38','timbrec39','timbrec40','timbrec41','timbrec42','timbrec43','timbrec44','timbrec45','timbrec46','timbrec47','timbrec48',\n",
    "                                      'timbrec49','timbrec50','timbrec51','timbrec52','timbrec53','timbrec54','timbrec55','timbrec56','timbrec57','timbrec58','timbrec59','timbrec60',\n",
    "                                      'timbrec61','timbrec62','timbrec63','timbrec64','timbrec65','timbrec66','timbrec67','timbrec68','timbrec69','timbrec70','timbrec71','timbrec72',\n",
    "                                      'timbrec73','timbrec74','timbrec75','timbrec76','timbrec77','timbrec78'),\n",
    "                            'formats': (np.integer, np.float,np.float,np.float,np.float,np.float,np.float,np.float,np.float,np.float,np.float,np.float,np.float,np.float,np.float,np.float,np.float,np.float,np.float,np.float,np.float,np.float,np.float,np.float,np.float,np.float,np.float,np.float,np.float,np.float,np.float,np.float,np.float,np.float,np.float,np.float,np.float,np.float,np.float,np.float,np.float,np.float,np.float,np.float,np.float,np.float,np.float,np.float,np.float,np.float,np.float,np.float,np.float,np.float,np.float,np.float,np.float,np.float,np.float,np.float,np.float,np.float,np.float,np.float,np.float,np.float,np.float,np.float,np.float,np.float,np.float,np.float,np.float,np.float,np.float,np.float,np.float,np.float,np.float,np.float,np.float,np.float,np.float,np.float,np.float,np.float,np.float,np.float,np.float,np.float,np.float)},\n",
    "                    delimiter=',', skiprows=0)"
   ]
  },
  {
   "cell_type": "code",
   "execution_count": null,
   "metadata": {
    "collapsed": true
   },
   "outputs": [],
   "source": [
    "df = pd.DataFrame(data, columns=['timbre01', 'timbre02', 'timbre03', 'timbre04', 'timbre05', 'timbre06', 'timbre07', 'timbre08', 'timbre09', 'timbre10', 'timbre11', 'timbre12',\n",
    "                                      'timbrec1','timbrec2','timbrec3','timbrec4','timbrec5','timbrec6','timbrec7','timbrec8','timbrec9','timbrec10','timbrec11','timbrec12',\n",
    "                                      'timbrec13','timbrec14','timbrec15','timbrec16','timbrec17','timbrec18','timbrec19','timbrec20','timbrec21','timbrec22','timbrec23','timbrec24',\n",
    "                                      'timbrec25','timbrec26','timbrec27','timbrec28','timbrec29','timbrec30','timbrec31','timbrec32','timbrec33','timbrec34','timbrec35','timbrec36',\n",
    "                                      'timbrec37','timbrec38','timbrec39','timbrec40','timbrec41','timbrec42','timbrec43','timbrec44','timbrec45','timbrec46','timbrec47','timbrec48',\n",
    "                                      'timbrec49','timbrec50','timbrec51','timbrec52','timbrec53','timbrec54','timbrec55','timbrec56','timbrec57','timbrec58','timbrec59','timbrec60',\n",
    "                                      'timbrec61','timbrec62','timbrec63','timbrec64','timbrec65','timbrec66','timbrec67','timbrec68','timbrec69','timbrec70','timbrec71','timbrec72',\n",
    "                                      'timbrec73','timbrec74','timbrec75','timbrec76','timbrec77','timbrec78'])"
   ]
  },
  {
   "cell_type": "code",
   "execution_count": null,
   "metadata": {
    "collapsed": true
   },
   "outputs": [],
   "source": [
    "target = pd.DataFrame(data, columns=[\"year\"])\n",
    "\n",
    "scaler = preprocessing.StandardScaler().fit(df)\n",
    "\n",
    "X = scaler.transform(df)\n",
    "y = target[\"year\"].tolist()\n",
    "\n",
    "X_sgd = scaler.transform(df)\n",
    "y_sgd = target[\"year\"].tolist()"
   ]
  },
  {
   "cell_type": "code",
   "execution_count": null,
   "metadata": {
    "collapsed": true
   },
   "outputs": [],
   "source": [
    "lm = linear_model.LinearRegression()\n",
    "model = lm.fit(X,y)\n",
    "\n",
    "sgd = linear_model.SGDRegressor()\n",
    "model_sgd = sgd.fit(X_sgd, y_sgd)"
   ]
  },
  {
   "cell_type": "code",
   "execution_count": null,
   "metadata": {
    "collapsed": true
   },
   "outputs": [],
   "source": [
    "data = np.loadtxt(open(TESTING_MODEL_FILE, 'r'),\n",
    "                     dtype={'names': ('year', 'timbre01', 'timbre02', 'timbre03', 'timbre04', 'timbre05', 'timbre06', 'timbre07', 'timbre08', 'timbre09', 'timbre10', 'timbre11', 'timbre12',\n",
    "                                      'timbrec1','timbrec2','timbrec3','timbrec4','timbrec5','timbrec6','timbrec7','timbrec8','timbrec9','timbrec10','timbrec11','timbrec12',\n",
    "                                      'timbrec13','timbrec14','timbrec15','timbrec16','timbrec17','timbrec18','timbrec19','timbrec20','timbrec21','timbrec22','timbrec23','timbrec24',\n",
    "                                      'timbrec25','timbrec26','timbrec27','timbrec28','timbrec29','timbrec30','timbrec31','timbrec32','timbrec33','timbrec34','timbrec35','timbrec36',\n",
    "                                      'timbrec37','timbrec38','timbrec39','timbrec40','timbrec41','timbrec42','timbrec43','timbrec44','timbrec45','timbrec46','timbrec47','timbrec48',\n",
    "                                      'timbrec49','timbrec50','timbrec51','timbrec52','timbrec53','timbrec54','timbrec55','timbrec56','timbrec57','timbrec58','timbrec59','timbrec60',\n",
    "                                      'timbrec61','timbrec62','timbrec63','timbrec64','timbrec65','timbrec66','timbrec67','timbrec68','timbrec69','timbrec70','timbrec71','timbrec72',\n",
    "                                      'timbrec73','timbrec74','timbrec75','timbrec76','timbrec77','timbrec78'),\n",
    "                            'formats': (np.integer, np.float,np.float,np.float,np.float,np.float,np.float,np.float,np.float,np.float,np.float,np.float,np.float,np.float,np.float,np.float,np.float,np.float,np.float,np.float,np.float,np.float,np.float,np.float,np.float,np.float,np.float,np.float,np.float,np.float,np.float,np.float,np.float,np.float,np.float,np.float,np.float,np.float,np.float,np.float,np.float,np.float,np.float,np.float,np.float,np.float,np.float,np.float,np.float,np.float,np.float,np.float,np.float,np.float,np.float,np.float,np.float,np.float,np.float,np.float,np.float,np.float,np.float,np.float,np.float,np.float,np.float,np.float,np.float,np.float,np.float,np.float,np.float,np.float,np.float,np.float,np.float,np.float,np.float,np.float,np.float,np.float,np.float,np.float,np.float,np.float,np.float,np.float,np.float,np.float,np.float)},\n",
    "                    delimiter=',', skiprows=0)"
   ]
  },
  {
   "cell_type": "code",
   "execution_count": null,
   "metadata": {
    "collapsed": true
   },
   "outputs": [],
   "source": [
    "df2 = pd.DataFrame(data, columns=['timbre01', 'timbre02', 'timbre03', 'timbre04', 'timbre05', 'timbre06', 'timbre07', 'timbre08', 'timbre09', 'timbre10', 'timbre11', 'timbre12',\n",
    "                                      'timbrec1','timbrec2','timbrec3','timbrec4','timbrec5','timbrec6','timbrec7','timbrec8','timbrec9','timbrec10','timbrec11','timbrec12',\n",
    "                                      'timbrec13','timbrec14','timbrec15','timbrec16','timbrec17','timbrec18','timbrec19','timbrec20','timbrec21','timbrec22','timbrec23','timbrec24',\n",
    "                                      'timbrec25','timbrec26','timbrec27','timbrec28','timbrec29','timbrec30','timbrec31','timbrec32','timbrec33','timbrec34','timbrec35','timbrec36',\n",
    "                                      'timbrec37','timbrec38','timbrec39','timbrec40','timbrec41','timbrec42','timbrec43','timbrec44','timbrec45','timbrec46','timbrec47','timbrec48',\n",
    "                                      'timbrec49','timbrec50','timbrec51','timbrec52','timbrec53','timbrec54','timbrec55','timbrec56','timbrec57','timbrec58','timbrec59','timbrec60',\n",
    "                                      'timbrec61','timbrec62','timbrec63','timbrec64','timbrec65','timbrec66','timbrec67','timbrec68','timbrec69','timbrec70','timbrec71','timbrec72',\n",
    "                                      'timbrec73','timbrec74','timbrec75','timbrec76','timbrec77','timbrec78'])"
   ]
  },
  {
   "cell_type": "code",
   "execution_count": null,
   "metadata": {
    "collapsed": true
   },
   "outputs": [],
   "source": [
    "X_predict = scaler.transform(df2)\n",
    "X_predict_sgd = scaler.transform(df2)\n",
    "\n",
    "y_predict = model.predict(X_predict)\n",
    "y_predict_sgd = model_sgd.predict(X_predict_sgd)"
   ]
  }
 ],
 "metadata": {
  "kernelspec": {
   "display_name": "Python 3",
   "language": "python",
   "name": "python3"
  },
  "language_info": {
   "codemirror_mode": {
    "name": "ipython",
    "version": 3
   },
   "file_extension": ".py",
   "mimetype": "text/x-python",
   "name": "python",
   "nbconvert_exporter": "python",
   "pygments_lexer": "ipython3",
   "version": "3.6.1"
  }
 },
 "nbformat": 4,
 "nbformat_minor": 2
}
